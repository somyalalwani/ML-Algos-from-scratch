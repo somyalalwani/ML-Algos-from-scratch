{
 "cells": [
  {
   "cell_type": "markdown",
   "metadata": {
    "id": "p64BQ-W3zpkM"
   },
   "source": [
    "**KNN Regression [Diamond Price Prediction Dataset]**"
   ]
  },
  {
   "cell_type": "markdown",
   "metadata": {
    "id": "nncP5eQd0IXL"
   },
   "source": [
    "#**1) REGRESSION**\n",
    "\n",
    "Please find the Diamond Price Prediction Data set https://drive.google.com/drive/folders/1qE1tm3Ke3uotTyv6SUqruI09t-AkcwRK?usp=sharing. \"description.txt\" contains the feature description of data, \"diamonds.csv\" has the data."
   ]
  },
  {
   "cell_type": "markdown",
   "metadata": {
    "id": "pi5z3DDg04cc"
   },
   "source": [
    "1. a) Build a knn regression algorithm [using only python from scratch] to predict the price of diamonds."
   ]
  },
  {
   "cell_type": "code",
   "execution_count": 99,
   "metadata": {
    "colab": {
     "base_uri": "https://localhost:8080/"
    },
    "id": "8kcAcD2T3Hsh",
    "outputId": "df2bd65b-af1d-4cec-b91b-12f094b685a9"
   },
   "outputs": [
    {
     "name": "stdout",
     "output_type": "stream",
     "text": [
      "***********************\n",
      "Mean Squared Error with Euclidean distance: k= 2\n",
      "351267.99768303987\n",
      "Mean Squared Error with Euclidean distance: k= 3\n",
      "329322.2801977131\n",
      "Mean Squared Error with Euclidean distance: k= 5\n",
      "300136.4631325298\n",
      "Mean Squared Error with Euclidean distance: k= 7\n",
      "295182.40876851213\n",
      "Mean Squared Error with Euclidean distance: k= 11\n",
      "280231.40397061873\n",
      "Mean Squared Error with Euclidean distance: k= 16\n",
      "268089.2421802595\n",
      "R2 Score with Euclidean distance: k= 2\n",
      "0.9748662212049282\n",
      "R2 Score with Euclidean distance: k= 3\n",
      "0.976465794171598\n",
      "R2 Score with Euclidean distance: k= 5\n",
      "0.9785222674910612\n",
      "R2 Score with Euclidean distance: k= 7\n",
      "0.9787217256695\n",
      "R2 Score with Euclidean distance: k= 11\n",
      "0.9796335511035726\n",
      "R2 Score with Euclidean distance: k= 16\n",
      "0.9804484990988368\n",
      "Mean Absolute Error with Euclidean distance: k= 2\n",
      "316.3660797034291\n",
      "Mean Absolute Error with Euclidean distance: k= 3\n",
      "307.01668211306793\n",
      "Mean Absolute Error with Euclidean distance: k= 5\n",
      "300.7649675625577\n",
      "Mean Absolute Error with Euclidean distance: k= 7\n",
      "295.6938964649802\n",
      "Mean Absolute Error with Euclidean distance: k= 11\n",
      "292.8904709748085\n",
      "Mean Absolute Error with Euclidean distance: k= 16\n",
      "286.9344300278035\n",
      "***************\n",
      "***********************\n",
      "Mean Squared Error with Manhattan distance: k= 2\n",
      "360854.1981000927\n",
      "Mean Squared Error with Manhattan distance: k= 3\n",
      "342631.5187931204\n",
      "Mean Squared Error with Manhattan distance: k= 5\n",
      "312515.3498424465\n",
      "Mean Squared Error with Manhattan distance: k= 7\n",
      "295495.5951088496\n",
      "Mean Squared Error with Manhattan distance: k= 11\n",
      "293168.7724936623\n",
      "Mean Squared Error with Manhattan distance: k= 16\n",
      "291890.7522047324\n",
      "R2 Score with Manhattan distance: k= 2\n",
      "0.9744183172802819\n",
      "R2 Score with Manhattan distance: k= 3\n",
      "0.9755402516169621\n",
      "R2 Score with Manhattan distance: k= 5\n",
      "0.9776335294894599\n",
      "R2 Score with Manhattan distance: k= 7\n",
      "0.9788087321433679\n",
      "R2 Score with Manhattan distance: k= 11\n",
      "0.9789128046449571\n",
      "R2 Score with Manhattan distance: k= 16\n",
      "0.9788456678676201\n",
      "Mean Absolute Error with Manhattan distance: k= 2\n",
      "322.35820203892496\n",
      "Mean Absolute Error with Manhattan distance: k= 3\n",
      "310.61322211924636\n",
      "Mean Absolute Error with Manhattan distance: k= 5\n",
      "300.04967562557954\n",
      "Mean Absolute Error with Manhattan distance: k= 7\n",
      "293.07467231563635\n",
      "Mean Absolute Error with Manhattan distance: k= 11\n",
      "296.1369955345857\n",
      "Mean Absolute Error with Manhattan distance: k= 16\n",
      "293.30798192771084\n",
      "***************\n"
     ]
    }
   ],
   "source": [
    "# QUESTION 1A, 2, 3 DONE IN THIS IN COMBINED FORM\n",
    "\n",
    "\n",
    "import numpy as np\n",
    "import pandas as pd\n",
    "from sklearn.preprocessing import LabelEncoder  #for label encoding\n",
    "from sklearn import preprocessing #for normalisation\n",
    "from sklearn.model_selection import train_test_split # to split data into training sets and test sets\n",
    "import warnings\n",
    "warnings.filterwarnings('ignore')\n",
    "\n",
    "def Euclidean_distance(v1,v2):  \n",
    "  sum=0\n",
    "  for p,q in zip(v1, v2):\n",
    "    sum+=(float(p)- float(q))**2\n",
    "  sum = sum ** .5\n",
    "  return sum\n",
    "\n",
    "\n",
    "def Manhattan_distance(v1,v2):\n",
    "  sum=0\n",
    "  for p,q in zip(v1, v2):\n",
    "    sum+=abs(float(p)- float(q))\n",
    "  return sum\n",
    "\n",
    "from sklearn.metrics import r2_score\n",
    "\n",
    "def MSE(actual,predicted): # one is y_pred, one is y_test\n",
    "  predicted=predicted.astype(float)\n",
    "  sum_error = 0.0\n",
    "  for i in range(len(actual)):\n",
    "    sum_error += (predicted[i] - actual[i])**2\n",
    "  return sum_error/ float(len(actual))\n",
    "\n",
    "def Mean_Absolute_Error(actual, predicted):\n",
    "  predicted=predicted.astype(float)\n",
    "  sum_error = 0.0\n",
    "  for i in range(len(actual)):\n",
    "    sum_error += abs(predicted[i] - actual[i])\n",
    "  return sum_error/ float(len(actual))\n",
    "\n",
    "headers = [\"carat\",\t\"cut\",\"color\",\"clarity\",\"depth\",\"table\",\"price\",\"x\",\"y\",\"z\"]\n",
    "data = pd.read_csv('diamonds.csv', na_values='?', header=None,  names = headers) \n",
    "data = data.reset_index(drop=True)\n",
    "df = data.iloc[1:]\n",
    "#print(\"**************\")\n",
    "\n",
    "##doing label encoding\n",
    "labelencoder = LabelEncoder()\n",
    "# Assigning numerical values and storing in another column\n",
    "df['cut_encoded'] = labelencoder.fit_transform(df['cut'])\n",
    "df['clarity_encoded'] = labelencoder.fit_transform(df['clarity'])\n",
    "df['color_encoded'] = labelencoder.fit_transform(df['color'])\n",
    "df=df.drop(['cut', 'clarity','color'], axis = 1) \n",
    "\n",
    "## doing NORMALISATION on every column except price for range 0-1 (that's why *1)\n",
    "df[\"color_encoded\"]=((df[\"color_encoded\"]-df[\"color_encoded\"].min())/(df[\"color_encoded\"].max()-df[\"color_encoded\"].min()))*1\n",
    "df[\"clarity_encoded\"]=((df[\"clarity_encoded\"]-df[\"clarity_encoded\"].min())/(df[\"clarity_encoded\"].max()-df[\"clarity_encoded\"].min()))*1\n",
    "df[\"cut_encoded\"]=((df[\"color_encoded\"]-df[\"color_encoded\"].min())/(df[\"color_encoded\"].max()-df[\"color_encoded\"].min()))*1\n",
    "\n",
    "df['depth'] = pd.to_numeric(df['depth']) \n",
    "df[\"depth\"]=((df[\"depth\"]-df[\"depth\"].min())/(df[\"depth\"].max()-df[\"depth\"].min()))*1\n",
    "\n",
    "df['table'] = pd.to_numeric(df['table']) \n",
    "df[\"table\"]=((df[\"table\"]-df[\"table\"].min())/(df[\"table\"].max()-df[\"table\"].min()))*1\n",
    "\n",
    "df['x'] = pd.to_numeric(df['x']) \n",
    "df[\"x\"]=((df[\"x\"]-df[\"x\"].min())/(df[\"x\"].max()-df[\"x\"].min()))*1\n",
    "\n",
    "df['y'] = pd.to_numeric(df['y']) \n",
    "df[\"y\"]=((df[\"y\"]-df[\"y\"].min())/(df[\"y\"].max()-df[\"y\"].min()))*1\n",
    "\n",
    "df['z'] = pd.to_numeric(df['z']) \n",
    "df[\"z\"]=((df[\"z\"]-df[\"z\"].min())/(df[\"z\"].max()-df[\"z\"].min()))*1\n",
    "\n",
    "#print(df.sample(5))\n",
    "\n",
    "y=df['price']\n",
    "df=df.drop(['price'], axis = 1) \n",
    "x_train, x_test, y_train, y_test = train_test_split(df, y, test_size=0.02, random_state=32)\n",
    "x_train=np.array(x_train)\n",
    "x_test=np.array(x_test)\n",
    "y_train=np.array(y_train)\n",
    "y_test=np.array(y_test)\n",
    "\n",
    "k_set=[2,3,5,7,11,16]\n",
    "ll=len(y_test)\n",
    "from sklearn.metrics import r2_score\n",
    "\n",
    "main_list_Euclidean=[] #list of lists where [x_test , k , avg of k y_train]\n",
    "for x in x_test:\n",
    "  i=0\n",
    "  l=[]\n",
    "  for y in x_train:\n",
    "    l.append([float(Euclidean_distance(x,y)),int(i)])\n",
    "    i=i+1\n",
    "  l.sort(key=lambda l:l[0])\n",
    "  for k in k_set:\n",
    "    sum=0\n",
    "    for val in l[:k]:\n",
    "      sum+=int(float(y_train[val[1]]))\n",
    "    avg=float(float(sum)/k)\n",
    "    lp=[x,k,avg]\n",
    "    main_list_Euclidean.append(lp)\n",
    "\n",
    "\n",
    "print(\"***********************\")\n",
    "\n",
    "main_list_Euclidean.sort(key=lambda main_list_Euclidean:main_list_Euclidean[1]) \n",
    "\n",
    "plot1=[]\n",
    "for oo in main_list_Euclidean[:15]:\n",
    "  plot1.append(oo[2])\n",
    "\n",
    "print(\"Mean Squared Error with Euclidean distance: k= 2\")\n",
    "print(MSE( [row[2] for row in main_list_Euclidean[:1079]   ] , y_test))\n",
    "\n",
    "print(\"Mean Squared Error with Euclidean distance: k= 3\")\n",
    "print(MSE([row[2] for row in main_list_Euclidean[1079:2158]] , y_test))\n",
    "\n",
    "print(\"Mean Squared Error with Euclidean distance: k= 5\")\n",
    "print(MSE([row[2] for row in main_list_Euclidean[2158:3237]] , y_test))\n",
    "\n",
    "print(\"Mean Squared Error with Euclidean distance: k= 7\")\n",
    "print(MSE([row[2] for row in main_list_Euclidean[3237:4316]] , y_test))\n",
    "\n",
    "print(\"Mean Squared Error with Euclidean distance: k= 11\")\n",
    "print(MSE([row[2] for row in main_list_Euclidean[4316:5395]] , y_test))\n",
    "\n",
    "print(\"Mean Squared Error with Euclidean distance: k= 16\")\n",
    "print(MSE([row[2] for row in main_list_Euclidean[5395:]] , y_test))\n",
    "\n",
    "print(\"R2 Score with Euclidean distance: k= 2\")\n",
    "print(r2_score([row[2] for row in main_list_Euclidean[:1079]] , y_test))\n",
    "\n",
    "print(\"R2 Score with Euclidean distance: k= 3\")\n",
    "print(r2_score([row[2] for row in main_list_Euclidean[1079:2158]] , y_test))\n",
    "\n",
    "print(\"R2 Score with Euclidean distance: k= 5\")\n",
    "print(r2_score([row[2] for row in main_list_Euclidean[2158:3237]] , y_test))\n",
    "\n",
    "print(\"R2 Score with Euclidean distance: k= 7\")\n",
    "print(r2_score([row[2] for row in main_list_Euclidean[3237:4316]] , y_test))\n",
    "\n",
    "print(\"R2 Score with Euclidean distance: k= 11\")\n",
    "print(r2_score([row[2] for row in main_list_Euclidean[4316:5395]] , y_test))\n",
    "\n",
    "print(\"R2 Score with Euclidean distance: k= 16\")\n",
    "print(r2_score([row[2] for row in main_list_Euclidean[5395:]] , y_test))\n",
    "\n",
    "print(\"Mean Absolute Error with Euclidean distance: k= 2\")\n",
    "print(Mean_Absolute_Error([row[2] for row in main_list_Euclidean[:1079]] , y_test))\n",
    "\n",
    "print(\"Mean Absolute Error with Euclidean distance: k= 3\")\n",
    "print(Mean_Absolute_Error([row[2] for row in main_list_Euclidean[1079:2158]] , y_test))\n",
    "\n",
    "print(\"Mean Absolute Error with Euclidean distance: k= 5\")\n",
    "print(Mean_Absolute_Error([row[2] for row in main_list_Euclidean[2158:3237]] , y_test))\n",
    "\n",
    "print(\"Mean Absolute Error with Euclidean distance: k= 7\")\n",
    "print(Mean_Absolute_Error([row[2] for row in main_list_Euclidean[3237:4316]] , y_test))\n",
    "\n",
    "print(\"Mean Absolute Error with Euclidean distance: k= 11\")\n",
    "print(Mean_Absolute_Error([row[2] for row in main_list_Euclidean[4316:5395]] , y_test))\n",
    "\n",
    "print(\"Mean Absolute Error with Euclidean distance: k= 16\")\n",
    "print(Mean_Absolute_Error([row[2] for row in main_list_Euclidean[5395:]] , y_test))\n",
    "\n",
    "print(\"***************\")\n",
    "\n",
    "main_list_Manhattan=[] #list of lists where [x_test , k , avg of k y_train]\n",
    "for x in x_test:\n",
    "  i=0\n",
    "  l=[]\n",
    "  for y in x_train:\n",
    "    l.append([float(Manhattan_distance(x,y)),int(i)])\n",
    "    i=i+1\n",
    "  l.sort(key=lambda l:l[0])\n",
    "  for k in k_set:\n",
    "    sum=0\n",
    "    for val in l[:k]:\n",
    "      sum+=int(float(y_train[val[1]]))\n",
    "    avg=float(float(sum)/k)\n",
    "    lp=[x,k,avg]\n",
    "    main_list_Manhattan.append(lp)\n",
    "\n",
    "\n",
    "print(\"***********************\")\n",
    "\n",
    "main_list_Manhattan.sort(key=lambda main_list_Manhattan:main_list_Manhattan[1]) \n",
    "\n",
    "print(\"Mean Squared Error with Manhattan distance: k= 2\")\n",
    "print(MSE( [row[2] for row in main_list_Manhattan[:1079]   ] , y_test))\n",
    "\n",
    "print(\"Mean Squared Error with Manhattan distance: k= 3\")\n",
    "print(MSE([row[2] for row in main_list_Manhattan[1079:2158]] , y_test))\n",
    "\n",
    "print(\"Mean Squared Error with Manhattan distance: k= 5\")\n",
    "print(MSE([row[2] for row in main_list_Manhattan[2158:3237]] , y_test))\n",
    "\n",
    "print(\"Mean Squared Error with Manhattan distance: k= 7\")\n",
    "print(MSE([row[2] for row in main_list_Manhattan[3237:4316]] , y_test))\n",
    "\n",
    "print(\"Mean Squared Error with Manhattan distance: k= 11\")\n",
    "print(MSE([row[2] for row in main_list_Manhattan[4316:5395]] , y_test))\n",
    "\n",
    "print(\"Mean Squared Error with Manhattan distance: k= 16\")\n",
    "print(MSE([row[2] for row in main_list_Manhattan[5395:]] , y_test))\n",
    "\n",
    "print(\"R2 Score with Manhattan distance: k= 2\")\n",
    "print(r2_score([row[2] for row in main_list_Manhattan[:1079]] , y_test))\n",
    "\n",
    "print(\"R2 Score with Manhattan distance: k= 3\")\n",
    "print(r2_score([row[2] for row in main_list_Manhattan[1079:2158]] , y_test))\n",
    "\n",
    "print(\"R2 Score with Manhattan distance: k= 5\")\n",
    "print(r2_score([row[2] for row in main_list_Manhattan[2158:3237]] , y_test))\n",
    "\n",
    "print(\"R2 Score with Manhattan distance: k= 7\")\n",
    "print(r2_score([row[2] for row in main_list_Manhattan[3237:4316]] , y_test))\n",
    "\n",
    "print(\"R2 Score with Manhattan distance: k= 11\")\n",
    "print(r2_score([row[2] for row in main_list_Manhattan[4316:5395]] , y_test))\n",
    "\n",
    "print(\"R2 Score with Manhattan distance: k= 16\")\n",
    "print(r2_score([row[2] for row in main_list_Manhattan[5395:]] , y_test))\n",
    "\n",
    "print(\"Mean Absolute Error with Manhattan distance: k= 2\")\n",
    "print(Mean_Absolute_Error([row[2] for row in main_list_Manhattan[:1079]] , y_test))\n",
    "\n",
    "print(\"Mean Absolute Error with Manhattan distance: k= 3\")\n",
    "print(Mean_Absolute_Error([row[2] for row in main_list_Manhattan[1079:2158]] , y_test))\n",
    "\n",
    "print(\"Mean Absolute Error with Manhattan distance: k= 5\")\n",
    "print(Mean_Absolute_Error([row[2] for row in main_list_Manhattan[2158:3237]] , y_test))\n",
    "\n",
    "print(\"Mean Absolute Error with Manhattan distance: k= 7\")\n",
    "print(Mean_Absolute_Error([row[2] for row in main_list_Manhattan[3237:4316]] , y_test))\n",
    "\n",
    "print(\"Mean Absolute Error with Manhattan distance: k= 11\")\n",
    "print(Mean_Absolute_Error([row[2] for row in main_list_Manhattan[4316:5395]] , y_test))\n",
    "\n",
    "print(\"Mean Absolute Error with Manhattan distance: k= 16\")\n",
    "print(Mean_Absolute_Error([row[2] for row in main_list_Manhattan[5395:]] , y_test))\n",
    "\n",
    "print(\"***************\")\n"
   ]
  },
  {
   "cell_type": "markdown",
   "metadata": {
    "id": "rdhlOuB_0xGr"
   },
   "source": [
    "1. b) Do we need to normalise data? [If so Does it make any difference?].\n"
   ]
  },
  {
   "cell_type": "markdown",
   "metadata": {
    "id": "rHO4hn4h-uQ5"
   },
   "source": [
    "Yes, I have normalised data as it is required when features have different ranges.\n",
    "The goal of normalization is to change the values of numeric columns in the dataset to a common scale,\n",
    "without distorting differences in the ranges of values."
   ]
  },
  {
   "cell_type": "markdown",
   "metadata": {
    "id": "E5bPcmCj0xCn"
   },
   "source": [
    "2. Experiment with different distance measures[Euclidean distance, Manhattan distance, Hamming Distance] to handle categorical attributes."
   ]
  },
  {
   "cell_type": "markdown",
   "metadata": {
    "id": "-3inL_mR-yHq"
   },
   "source": [
    "QUESTION 1A, 2, 3 DONE IN THIS IN COMBINED FORM"
   ]
  },
  {
   "cell_type": "markdown",
   "metadata": {
    "id": "O64G_tqG0w_l"
   },
   "source": [
    "3. Report Mean Squared Error(MSE), Mean-Absolute-Error(MAE), R-squared (R2) score in a tabular form."
   ]
  },
  {
   "cell_type": "markdown",
   "metadata": {
    "id": "awWTpuCn-2Ap"
   },
   "source": [
    "QUESTION 1A, 2, 3 DONE IN THIS IN COMBINED FORM"
   ]
  },
  {
   "cell_type": "markdown",
   "metadata": {
    "id": "MA2kN7dL0wjE"
   },
   "source": [
    "4.  a) Choose different K values (k=2,3,5,7,11,16) and experiment. Plot a graph showing R2 score vs k."
   ]
  },
  {
   "cell_type": "code",
   "execution_count": 100,
   "metadata": {
    "colab": {
     "base_uri": "https://localhost:8080/",
     "height": 514
    },
    "id": "Z3VSKWrU3KBT",
    "outputId": "211bb16b-26f0-4ff3-bf3f-4ef59ac2e34a"
   },
   "outputs": [
    {
     "data": {
      "text/plain": [
       "<matplotlib.legend.Legend at 0x7f51c7410668>"
      ]
     },
     "execution_count": 100,
     "metadata": {
      "tags": []
     },
     "output_type": "execute_result"
    },
    {
     "data": {
      "image/png": "[encoded data removed]",
      "text/plain": [
       "<Figure size 720x576 with 1 Axes>"
      ]
     },
     "metadata": {
      "needs_background": "light",
      "tags": []
     },
     "output_type": "display_data"
    }
   ],
   "source": [
    "# plot\n",
    "import matplotlib.pyplot as plt\n",
    "k=[\"2\",\"3\",\"5\",\"7\",\"11\",\"16\"]\n",
    "\n",
    "eucR2=[0.9748662212049282,0.976465794171598, 0.9785222674910612, 0.9787217256695, 0.9796335511035726, 0.9804484990988368]\n",
    "manR2=[0.9744183172802819, 0.9755402516169621, 0.9776335294894599, 0.9788087321433679, 0.9789128046449571, 0.9788456678676201]\n",
    "\n",
    "plt.plot(k,eucR2,label='Euclidean')\n",
    "plt.plot(k,manR2,label='Manhattan')\n",
    "plt.xlabel(\"K\")\n",
    "plt.ylabel(\"R2 score\")\n",
    "plt.legend()"
   ]
  },
  {
   "cell_type": "markdown",
   "metadata": {
    "id": "xgkHg7QL1mzy"
   },
   "source": [
    "4. b) Are the R-squared scores the same? Why / Why not? How do we identify the best K? Suggest a computational procedure, with a logical explanation."
   ]
  },
  {
   "cell_type": "markdown",
   "metadata": {
    "id": "hDRa1Z7t-lsZ"
   },
   "source": [
    "No.\n",
    "The R-squared values are different for every K.\n",
    "For a small value of k, our model is vulnerable to noise.\n",
    "For a larger value of k, the computation time increases so we need to maintain a balance.\n",
    "Generally an odd number less than sqrt(n) is chosen as k."
   ]
  },
  {
   "cell_type": "markdown",
   "metadata": {
    "id": "Psho4dHI1wXb"
   },
   "source": [
    "5. a) Also, report the performance of scikit-learn’s kNN regression algorithm.  "
   ]
  },
  {
   "cell_type": "code",
   "execution_count": 101,
   "metadata": {
    "colab": {
     "base_uri": "https://localhost:8080/"
    },
    "id": "XmBOqvrm3Lkf",
    "outputId": "d882b6c9-ed61-4b5d-82bf-4eec5dc27e1f"
   },
   "outputs": [
    {
     "name": "stdout",
     "output_type": "stream",
     "text": [
      "R2_score using scikit-learn is: 0.9523495277078802\n"
     ]
    }
   ],
   "source": [
    "# scikit-learn KNN Regressor\n",
    "\n",
    "from sklearn.neighbors import KNeighborsClassifier\n",
    "from sklearn.metrics import accuracy_score\n",
    "\n",
    "neigh = KNeighborsClassifier(n_neighbors=3)\n",
    "neigh.fit(x_train, y_train)\n",
    "\n",
    "A_pred=neigh.predict(x_test)\n",
    "print(\"R2_score using scikit-learn is:\",r2_score(A_pred,y_test))"
   ]
  },
  {
   "cell_type": "markdown",
   "metadata": {
    "id": "R7ZzdSUu2Iez"
   },
   "source": [
    "5. b) Compare it with the algorithm you built. [ you can use complexities, R2 score etc..]"
   ]
  },
  {
   "cell_type": "markdown",
   "metadata": {
    "id": "cHkPp72b-dZ1"
   },
   "source": [
    "The R2_score of my model for k=3 is 0.976465794171598 while for scikit-learn model it is 0.9523495277078802\n"
   ]
  },
  {
   "cell_type": "markdown",
   "metadata": {
    "id": "Xa-vbZfY2OFO"
   },
   "source": [
    "6. From the above experiments, what do you think are advantages and disadvantages of the knn regression algorithm?\n"
   ]
  },
  {
   "cell_type": "markdown",
   "metadata": {
    "id": "mDuTsKx2-YC5"
   },
   "source": [
    "Advantages of KNN :\n",
    "1. No Training Period: KNN is called Lazy Learner as it does not learn anything in the training period.\n",
    "    It stores the training dataset and learns from it only at the time of making real time predictions.\n",
    "    This makes the KNN algorithm much faster than other algorithms.\n",
    "2. New data can be added seamlessly which will not impact the accuracy of the algorithm.\n",
    "3. KNN is very easy to implement. There are only two parameters required to implement KNN\n",
    "    i.e.K & the distance function.\n",
    "4. Versatile – useful for regression and classification\n",
    "\n",
    "Disadvantages of KNN\n",
    "1. Does not work well with large dataset\n",
    "    as the cost of calculating the distance is huge in turn degrading the performance of the algorithm.\n",
    "2. Does not work well with high dimensions\n",
    "    as it becomes difficult for the algorithm to calculate the distance in each dimension.\n",
    "3. Need feature scaling(standardization and normalization) before applying KNN algorithm to any dataset,\n",
    "    otherwise KNN may generate wrong predictions.\n",
    "4. Accuracy depends on the quality of the data\n",
    "5. Sensitive to the scale of the data and irrelevant features\n",
    "6. Require high memory – need to store all of the training data"
   ]
  }
 ],
 "metadata": {
  "colab": {
   "collapsed_sections": [],
   "name": "2020201092_assign1.ipynb",
   "provenance": []
  },
  "kernelspec": {
   "display_name": "Python 3",
   "language": "python",
   "name": "python3"
  },
  "language_info": {
   "codemirror_mode": {
    "name": "ipython",
    "version": 3
   },
   "file_extension": ".py",
   "mimetype": "text/x-python",
   "name": "python",
   "nbconvert_exporter": "python",
   "pygments_lexer": "ipython3",
   "version": "3.8.5"
  }
 },
 "nbformat": 4,
 "nbformat_minor": 1
}
