{
  "nbformat": 4,
  "nbformat_minor": 0,
  "metadata": {
    "colab": {
      "name": "smai a2 q2.ipynb",
      "provenance": [],
      "collapsed_sections": []
    },
    "kernelspec": {
      "name": "python3",
      "display_name": "Python 3"
    }
  },
  "cells": [
    {
      "cell_type": "markdown",
      "metadata": {
        "id": "-g0bD6IALZdq"
      },
      "source": [
        "You need to implement Logistic Regression from scratch in this question\n",
        "\n",
        "1. You are provided with the dataset of sign language digits. Implement logistic regression from scratch to classify the images provided in the dataset. Load the dataset and perform splitting into training and test sets with 70:30 ratio randomly using test train split.\n",
        "    \n",
        "dataset link : https://iiitaphyd-my.sharepoint.com/:f:/g/personal/apurva_jadhav_students_iiit_ac_in/Eictt5_qmoxNqezgQQiMWeIBph4sxlfA6jWAJNPnV2SF9Q?e=mQmYN0\n",
        "\n",
        "3. Use both one vs all and one vs one method for the above problem statement purpose."
      ]
    },
    {
      "cell_type": "code",
      "metadata": {
        "id": "l-IFpeC7hyqK"
      },
      "source": [
        "import numpy as np\n",
        "from sklearn.model_selection import train_test_split # to split data into training sets and test sets\n",
        "import pandas as pd\n",
        "import pandas as pd\n",
        "import statistics\n",
        "from random import seed\n",
        "from sklearn.model_selection import train_test_split # to split data into training sets and test sets\n",
        "from scipy import stats\n",
        "from itertools import combinations"
      ],
      "execution_count": 3,
      "outputs": []
    },
    {
      "cell_type": "code",
      "metadata": {
        "colab": {
          "base_uri": "https://localhost:8080/"
        },
        "id": "HCNg_Qm9slYk",
        "outputId": "4afe4026-15f6-4ded-caae-53fb3ba6715e"
      },
      "source": [
        "!apt install unzip\n",
        "!unzip SMAI_Log_reg_dataset.zip\n",
        "!unzip SMAI_Log_reg_dataset/X.npy.zip"
      ],
      "execution_count": 4,
      "outputs": [
        {
          "output_type": "stream",
          "text": [
            "Reading package lists... Done\n",
            "Building dependency tree       \n",
            "Reading state information... Done\n",
            "unzip is already the newest version (6.0-21ubuntu1.1).\n",
            "0 upgraded, 0 newly installed, 0 to remove and 29 not upgraded.\n",
            "Archive:  SMAI_Log_reg_dataset.zip\n",
            " extracting: SMAI_Log_reg_dataset/titanic.csv  \n",
            " extracting: SMAI_Log_reg_dataset/X.npy.zip  \n",
            " extracting: SMAI_Log_reg_dataset/Y.npy  \n",
            "Archive:  SMAI_Log_reg_dataset/X.npy.zip\n",
            "  inflating: X.npy                   \n"
          ],
          "name": "stdout"
        }
      ]
    },
    {
      "cell_type": "markdown",
      "metadata": {
        "id": "fmbF6Ofxh0SP"
      },
      "source": [
        "PRE-PROCESSING OF DATA"
      ]
    },
    {
      "cell_type": "code",
      "metadata": {
        "id": "9HYZk-sXJZg8"
      },
      "source": [
        "x_l = np.load(\"X.npy\") # image\n",
        "y_l = np.load(\"SMAI_Log_reg_dataset/Y.npy\") # label\n",
        "\n",
        "x_train, x_test, y_train, y_test = train_test_split(x_l, y_l, test_size=0.3, random_state=32)\n",
        "\n",
        "#print(x_train[:10])\n",
        "# print(y_train[:10])\n",
        "# print(x_test[:10])\n",
        "# print(y_test[:10])\n",
        "\n",
        "x_l=np.reshape(x_l,(x_l.shape[0], -1))\n",
        "\n",
        "\n",
        "# print(x_train.shape)\n",
        "# print(y_train.shape)\n",
        "# print(x_test.shape)\n",
        "# print(y_test.shape)\n",
        "\n",
        "#print(x_l.shape)"
      ],
      "execution_count": 39,
      "outputs": []
    },
    {
      "cell_type": "code",
      "metadata": {
        "id": "rL3IAZ5bv18p"
      },
      "source": [
        "#hypothesis that takes the input variables and theta. It returns the calculated output variable.\n",
        "def hypothesis(theta, X):\n",
        "  return 1 / (1 + np.exp(-(np.dot(X,theta)))) - 0.0000001\n",
        "\n",
        "def gradient_descent(x, y, theta, alpha, epoch):\n",
        "    for i in range(epoch):\n",
        "        for j in range(0, 10):\n",
        "            theta1=theta[:,j].reshape(-1,1)\n",
        "            h = hypothesis(theta1, x)\n",
        "            for k in range(0, theta.shape[0]):\n",
        "                temp_y= y[:,j].reshape(-1,1)\n",
        "                temp_x=x[:, k].reshape(-1,1)\n",
        "                theta[k][j] -= (alpha/len(x)) * np.sum((h-temp_y)*temp_x)\n",
        "    return theta\n",
        "\n",
        "\n",
        "temp=[]\n",
        "for i in range(0,10):\n",
        "  temp.append(i)\n",
        "combo=list(combinations(temp,2)) "
      ],
      "execution_count": 6,
      "outputs": []
    },
    {
      "cell_type": "code",
      "metadata": {
        "id": "l1U92YgO3EDC"
      },
      "source": [
        "#print(x_test.shape)\n",
        "#print(x_train.shape)\n",
        "\n",
        "x_train=np.reshape(x_train,(x_train.shape[0], -1))\n",
        "ones=np.ones(shape=x_train.shape[0]).reshape(-1,1)\n",
        "x_train=np.concatenate((ones,x_train),1)\n",
        "\n",
        "x_test=np.reshape(x_test,(x_test.shape[0], -1))\n",
        "ones=np.ones(shape=x_test.shape[0]).reshape(-1,1)\n",
        "x_test=np.concatenate((ones,x_test),1)\n",
        "\n",
        "\n",
        "#print(x_test.shape)\n",
        "#print(x_train.shape)\n"
      ],
      "execution_count": 40,
      "outputs": []
    },
    {
      "cell_type": "markdown",
      "metadata": {
        "id": "h94GJEoUjbC-"
      },
      "source": [
        "ONE VS ALL METHOD : "
      ]
    },
    {
      "cell_type": "code",
      "metadata": {
        "colab": {
          "base_uri": "https://localhost:8080/"
        },
        "id": "Ub8v_ztMqpv9",
        "outputId": "86da47ea-3055-4ca5-be13-099c7bb85c91"
      },
      "source": [
        "\n",
        "\n",
        "theta = np.zeros([x_train.shape[1], y_train.shape[1]])\n",
        "#print(len(theta),len(theta[0]))\n",
        "theta = gradient_descent(x_train, y_train, theta, 0.01, 1000)\n",
        "\n",
        "\n",
        "# With this updated theta, calculate the output variable.\n",
        "#print(len(theta),len(theta[0]))\n",
        "#print(x_test.shape)\n",
        "#print(\"***************\")\n",
        "output = []\n",
        "for i in range(0, 10):\n",
        "    #theta1 = pd.DataFrame(theta)\n",
        "    #h = hypothesis(theta1.iloc[:,i], x_test)\n",
        "    theta1=theta[:,i].reshape(-1,1)\n",
        "    h = hypothesis(theta1, x_test)\n",
        "\n",
        "    output.append(h)\n",
        "\n",
        "\n",
        "output=np.array(output)\n",
        "\n",
        "accuracy = 0\n",
        "for col in range(0, 10):\n",
        "    for row in range(len(y_test)):\n",
        "        temp=output[:,row].reshape(-1,1)\n",
        "        if y_test[row][col] == 1 and output[col][row] == max(temp):\n",
        "            accuracy += 1\n",
        "\n",
        "accuracy = accuracy/len(x_test)\n",
        "print(accuracy*100)"
      ],
      "execution_count": 9,
      "outputs": [
        {
          "output_type": "stream",
          "text": [
            "70.75928917609046\n"
          ],
          "name": "stdout"
        }
      ]
    },
    {
      "cell_type": "code",
      "metadata": {
        "id": "Vsp5lvV0zZVk"
      },
      "source": [
        "output1=[]\n",
        "for i in range(len(output)):\n",
        "  ll=[]\n",
        "  for j in range(len(output[0])):\n",
        "    ll.append(output[i][j][0])\n",
        "  output1.append(ll)\n",
        "\n",
        "output1=np.array(output1).transpose()\n",
        "onevsall_y=[]\n",
        "for i in output1:\n",
        "  onevsall_y.append(np.argmax(i))\n",
        "onevsall_y=np.array(onevsall_y)\n",
        "#print(onevsall_y.shape)"
      ],
      "execution_count": 69,
      "outputs": []
    },
    {
      "cell_type": "markdown",
      "metadata": {
        "id": "sfN_GsbajxLX"
      },
      "source": [
        "ONE VS ONE :"
      ]
    },
    {
      "cell_type": "code",
      "metadata": {
        "colab": {
          "base_uri": "https://localhost:8080/"
        },
        "id": "bDAJiD6O3Nym",
        "outputId": "0ba438ee-ef41-4359-8630-dfaf516090b7"
      },
      "source": [
        "theta=[]\n",
        "for pair in combo:\n",
        "    a=pair[0]\n",
        "    b=pair[1]\n",
        "    \n",
        "    temp_x=[]\n",
        "    temp_y=[]\n",
        "\n",
        "    for i in range(len(y_train)):\n",
        "      if np.argmax(y_train[i])==a or np.argmax(y_train[i])==b :\n",
        "        temp_x.append(x_train[i])\n",
        "        temp_y.append(y_train[i][a])\n",
        "\n",
        "    w=np.zeros(4097)\n",
        "    diff=[]\n",
        "    epoch=1000\n",
        "    alpha=0.1\n",
        "    for i in range(epoch):\n",
        "      y_predict=1 / (1 + np.exp(-(np.dot(temp_x,w)))) - 0.0000001\n",
        "      cost=np.subtract(y_predict,temp_y)\n",
        "      diff.append(cost)\n",
        "      t=[]\n",
        "      t=np.dot(np.array(temp_x).T,cost)\n",
        "      t1=t*(alpha/len(temp_y))\n",
        "      w=w-t1\n",
        "    \n",
        "    theta.append(w)\n",
        "\n",
        "y_pred=[]\n",
        "\n",
        "for i in x_test :\n",
        "  l=[]\n",
        "  for j in range(len(theta)):\n",
        "    hypo=hypothesis(i, theta[j])\n",
        "    if hypo>=0.5:\n",
        "      l.append(combo[j][0])\n",
        "    else:\n",
        "      l.append(combo[j][1])\n",
        "\n",
        "  aa=stats.mode(l)\n",
        "  y_pred.append(aa)\n",
        "\n",
        "#print(y_pred)\n",
        "\n",
        "accuracy=0\n",
        "for i in range(len(y_test)):\n",
        "  if np.argmax(y_test[i])==y_pred[i][0][0]:\n",
        "    accuracy+=1\n",
        "\n",
        "accuracy = accuracy/len(x_test)\n",
        "print(accuracy*100)\n"
      ],
      "execution_count": 41,
      "outputs": [
        {
          "output_type": "stream",
          "text": [
            "72.21324717285945\n"
          ],
          "name": "stdout"
        }
      ]
    },
    {
      "cell_type": "code",
      "metadata": {
        "id": "sLi-hZ_jzCXa"
      },
      "source": [
        "y_pred_one_one=[]\n",
        "for i in y_pred:\n",
        "  y_pred_one_one.append(i[0])\n"
      ],
      "execution_count": 56,
      "outputs": []
    },
    {
      "cell_type": "markdown",
      "metadata": {
        "id": "JKS1KZiSAL8-"
      },
      "source": [
        "2.\n",
        "a) Plot a diagram for the sigmoid function. This is used for binary classication.\n",
        "b) How do you modify it for multilabel dataset classification problems? State and Explain the methods used.\n",
        "\n"
      ]
    },
    {
      "cell_type": "code",
      "metadata": {
        "colab": {
          "base_uri": "https://localhost:8080/",
          "height": 279
        },
        "id": "qm5O0NLQqZDV",
        "outputId": "2690b082-821c-4ff6-e9a6-2b342f341aa7"
      },
      "source": [
        "import matplotlib.pyplot as plt \n",
        "import numpy as np \n",
        "import math \n",
        "  \n",
        "x = np.linspace(-10, 10, 100) \n",
        "z = 1/(1 + np.exp(-x)) \n",
        "  \n",
        "plt.plot(x, z) \n",
        "plt.xlabel(\"x\") \n",
        "plt.ylabel(\"Sigmoid(X)\") \n",
        "  \n",
        "plt.show() "
      ],
      "execution_count": 10,
      "outputs": [
        {
          "output_type": "display_data",
          "data": {
            "image/png": "[encoded data removed]",
            "text/plain": [
              "<Figure size 432x288 with 1 Axes>"
            ]
          },
          "metadata": {
            "tags": [],
            "needs_background": "light"
          }
        }
      ]
    },
    {
      "cell_type": "markdown",
      "metadata": {
        "id": "fM3d7HoZrUyM"
      },
      "source": [
        "Ans. 2b) If the inputs of your classification task have multiple labels for an input, your classes are not mutually exclusive and you can use Sigmoid for each output. Logistic regression uses a sigmoid function to predict the output. The sigmoid function returns a value from 0 to 1. Generally, we take a threshold such as 0.5. If the sigmoid function returns a value greater than or equal to 0.5, we take it as 1, and if the sigmoid function returns a value less than 0.5, we take it as 0.\n",
        "\n",
        "h= 1 / (1 + e^(-z)) - 0.0000001\n",
        "\n",
        "where z =  input features multiplied by theta(t)\n",
        "\n",
        "X = [X1, X2, X3] are input features\n",
        "\n",
        "Hence, h= t0 + t1*X1 + t2*X2 + ...."
      ]
    },
    {
      "cell_type": "markdown",
      "metadata": {
        "id": "-ikPh-dzw1jM"
      },
      "source": [
        "(q3 done along with q1)"
      ]
    },
    {
      "cell_type": "markdown",
      "metadata": {
        "id": "on8-jl9-nJfF"
      },
      "source": [
        "4. Also get results using Log Reg from scikit learn.\n"
      ]
    },
    {
      "cell_type": "code",
      "metadata": {
        "colab": {
          "base_uri": "https://localhost:8080/"
        },
        "id": "wUny0qv5sgGm",
        "outputId": "c47a2d43-9a3e-48b4-af11-ec3288b8da44"
      },
      "source": [
        "from sklearn import datasets\n",
        "from sklearn import model_selection\n",
        "from sklearn import linear_model\n",
        "from sklearn import metrics\n",
        "\n",
        "\n",
        "y_train1=[]\n",
        "for yy in y_train:\n",
        "  y_train1.append(np.argmax(yy))\n",
        "y_train1=np.array(y_train1)\n",
        "\n",
        "y_test1=[]\n",
        "for yy in y_test:\n",
        "  y_test1.append(np.argmax(yy))\n",
        "y_test1=np.array(y_test1)\n",
        "\n",
        "# print(x_train.shape)\n",
        "# print(y_train1.shape)\n",
        "# print(x_test.shape)\n",
        "# print(y_test1.shape)\n",
        "\n",
        "lm = linear_model.LogisticRegression(multi_class='ovr', solver='liblinear')\n",
        "lm.fit(x_train, y_train1)\n",
        "y_sklearn=lm.predict(x_test)\n",
        "print(\"SCORE FROM Log Reg from scikit learn\")\n",
        "lm.score(x_test, y_test1)\n"
      ],
      "execution_count": 54,
      "outputs": [
        {
          "output_type": "stream",
          "text": [
            "SCORE FROM Log Reg from scikit learn\n"
          ],
          "name": "stdout"
        },
        {
          "output_type": "execute_result",
          "data": {
            "text/plain": [
              "0.7140549273021002"
            ]
          },
          "metadata": {
            "tags": []
          },
          "execution_count": 54
        }
      ]
    },
    {
      "cell_type": "markdown",
      "metadata": {
        "id": "KEjGyjPcvDBU"
      },
      "source": [
        "5. Report metrics you feel useful and Compare the results - from all the three.\n",
        "\n",
        "A] ACCURACY SCORE :\n",
        "<br>\n",
        "one vs all : 0.7075928917609046\n",
        "<br>\n",
        "one vs one : 0.7221324717285945\n",
        "<br>\n",
        "scikit learn : 0.7172859450726979\n",
        "<br><br>\n",
        "\n",
        "From the above score, we can see that one vs one gave the maximum accuracy out of all 3 methods.\n"
      ]
    },
    {
      "cell_type": "markdown",
      "metadata": {
        "id": "3Ck5f6c_7Z6M"
      },
      "source": [
        "B] CONFUSION MATRIX :"
      ]
    },
    {
      "cell_type": "code",
      "metadata": {
        "colab": {
          "base_uri": "https://localhost:8080/"
        },
        "id": "TOpCzY703UOW",
        "outputId": "ff4b645b-4cfa-4867-a0f9-3dec6ab06781"
      },
      "source": [
        "from sklearn.metrics import confusion_matrix\n",
        "print(\"y_test vs onevsall : \")\n",
        "confusion_matrix(y_test1, onevsall_y)"
      ],
      "execution_count": 65,
      "outputs": [
        {
          "output_type": "stream",
          "text": [
            "y_test vs onevsall : \n"
          ],
          "name": "stdout"
        },
        {
          "output_type": "execute_result",
          "data": {
            "text/plain": [
              "array([[50,  2,  2,  0,  0,  0,  2,  0,  1,  3],\n",
              "       [ 1, 47,  1,  5,  0,  1,  3,  0,  0,  0],\n",
              "       [ 0,  4, 30,  3,  3,  0,  2,  0,  5,  0],\n",
              "       [ 0,  0,  2, 52,  1,  0,  4,  0,  4,  0],\n",
              "       [ 0,  1,  2,  0, 41,  5,  1,  1,  1,  0],\n",
              "       [ 4,  2,  3,  1,  2, 51,  1,  0,  1,  1],\n",
              "       [ 1,  1,  8, 12,  0,  5, 26,  0,  5,  2],\n",
              "       [ 5,  0,  2,  0,  4,  0,  0, 49,  3,  8],\n",
              "       [ 1,  2, 14,  3, 10,  0,  0,  0, 42,  0],\n",
              "       [ 9,  0,  1,  0,  0,  2,  3,  5,  0, 50]])"
            ]
          },
          "metadata": {
            "tags": []
          },
          "execution_count": 65
        }
      ]
    },
    {
      "cell_type": "code",
      "metadata": {
        "colab": {
          "base_uri": "https://localhost:8080/"
        },
        "id": "qoOORE6X7LOT",
        "outputId": "2cbbacd1-152e-40e5-ba29-8c3410f7d003"
      },
      "source": [
        "print(\"y_test vs onevsone : \")\n",
        "confusion_matrix(y_test1, y_pred_one_one)\n"
      ],
      "execution_count": 66,
      "outputs": [
        {
          "output_type": "stream",
          "text": [
            "y_test vs onevsone : \n"
          ],
          "name": "stdout"
        },
        {
          "output_type": "execute_result",
          "data": {
            "text/plain": [
              "array([[52,  1,  2,  0,  0,  0,  1,  0,  1,  3],\n",
              "       [ 2, 49,  0,  5,  0,  0,  2,  0,  0,  0],\n",
              "       [ 0,  4, 22,  3,  7,  2,  1,  1,  7,  0],\n",
              "       [ 0,  0,  0, 45,  1,  3,  0,  1, 13,  0],\n",
              "       [ 0,  2,  0,  0, 45,  3,  0,  1,  1,  0],\n",
              "       [ 2,  1,  0,  1,  2, 57,  0,  0,  1,  2],\n",
              "       [ 4,  3,  3, 24,  0, 11,  9,  0,  5,  1],\n",
              "       [ 3,  0,  1,  2,  0,  0,  0, 57,  1,  7],\n",
              "       [ 1,  1,  3,  3,  8,  1,  0,  2, 52,  1],\n",
              "       [ 4,  0,  0,  0,  0,  3,  2,  2,  0, 59]])"
            ]
          },
          "metadata": {
            "tags": []
          },
          "execution_count": 66
        }
      ]
    },
    {
      "cell_type": "code",
      "metadata": {
        "colab": {
          "base_uri": "https://localhost:8080/"
        },
        "id": "m03hX-5f7LD3",
        "outputId": "79ec5191-0b40-45e8-b692-63ddbe48435c"
      },
      "source": [
        "print(\"onevsall vs sklearn : \")\n",
        "confusion_matrix(onevsall_y,y_sklearn)\n"
      ],
      "execution_count": 67,
      "outputs": [
        {
          "output_type": "stream",
          "text": [
            "onevsall vs sklearn : \n"
          ],
          "name": "stdout"
        },
        {
          "output_type": "execute_result",
          "data": {
            "text/plain": [
              "array([[56,  1,  0,  2,  1,  1,  0,  4,  0,  6],\n",
              "       [ 2, 50,  1,  0,  0,  2,  3,  0,  1,  0],\n",
              "       [ 0,  0, 40,  7,  5,  2,  7,  1,  2,  1],\n",
              "       [ 0,  2,  0, 46,  0,  2, 12,  0, 14,  0],\n",
              "       [ 0,  0,  3,  4, 47,  2,  0,  3,  2,  0],\n",
              "       [ 1,  3,  0,  1,  2, 53,  0,  0,  1,  3],\n",
              "       [ 0,  2,  3,  2,  0,  2, 32,  0,  0,  1],\n",
              "       [ 1,  0,  0,  2,  1,  0,  1, 43,  0,  7],\n",
              "       [ 0,  1,  1,  5,  4,  0,  4,  2, 45,  0],\n",
              "       [ 0,  2,  0,  2,  0,  1,  2,  5,  0, 52]])"
            ]
          },
          "metadata": {
            "tags": []
          },
          "execution_count": 67
        }
      ]
    },
    {
      "cell_type": "code",
      "metadata": {
        "colab": {
          "base_uri": "https://localhost:8080/"
        },
        "id": "MldUmOUr7N3E",
        "outputId": "f294f73c-0d38-4e59-ec7f-e7b66f988cdd"
      },
      "source": [
        "print(\"onevsone vs sklearn : \")\n",
        "confusion_matrix(y_pred_one_one,y_sklearn)\n"
      ],
      "execution_count": 68,
      "outputs": [
        {
          "output_type": "stream",
          "text": [
            "onevsone vs sklearn : \n"
          ],
          "name": "stdout"
        },
        {
          "output_type": "execute_result",
          "data": {
            "text/plain": [
              "array([[53,  3,  1,  3,  1,  1,  2,  3,  0,  1],\n",
              "       [ 1, 50,  3,  1,  0,  2,  4,  0,  0,  0],\n",
              "       [ 0,  0, 27,  0,  2,  1,  1,  0,  0,  0],\n",
              "       [ 0,  2,  2, 47,  1,  1, 23,  0,  7,  0],\n",
              "       [ 0,  0,  6,  5, 47,  2,  3,  0,  0,  0],\n",
              "       [ 2,  2,  2,  1,  3, 55, 12,  0,  1,  2],\n",
              "       [ 0,  2,  2,  0,  0,  0, 10,  0,  0,  1],\n",
              "       [ 2,  0,  1,  3,  2,  1,  0, 51,  2,  2],\n",
              "       [ 0,  1,  4, 11,  4,  0,  4,  2, 55,  0],\n",
              "       [ 2,  1,  0,  0,  0,  2,  2,  2,  0, 64]])"
            ]
          },
          "metadata": {
            "tags": []
          },
          "execution_count": 68
        }
      ]
    }
  ]
}