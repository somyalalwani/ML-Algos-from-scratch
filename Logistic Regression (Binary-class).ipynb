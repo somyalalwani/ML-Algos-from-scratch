{
 "cells": [
  {
   "cell_type": "markdown",
   "metadata": {
    "id": "j6H3J20HdfeC"
   },
   "source": [
    "1. You are provided the titanic dataset. Load the dataset and perform splitting into training and test sets with 70:30 ratio randomly using test train split.\n",
    "Use the Logistic regression created from scratch (from the prev question) in this question as well.\n",
    "Data cleaning plays a major role in this question. Report all the methods used by you in the ipynb.\n",
    "-->\n",
    "\n",
    "i. Check for missing values\n",
    "\n",
    "ii. Drop Columns & Handle missing values\n",
    "\n",
    "iii. Create dummies for categorical features\n",
    "\n",
    "you are free to perform other data cleaning to improve your results.\n"
   ]
  },
  {
   "cell_type": "code",
   "execution_count": 2,
   "metadata": {
    "colab": {
     "base_uri": "https://localhost:8080/"
    },
    "id": "Hv4iffsZdMVS",
    "outputId": "82b8cd2a-3ba3-480c-95a3-1a05be82f197"
   },
   "outputs": [
    {
     "name": "stdout",
     "output_type": "stream",
     "text": [
      "Reading package lists... Done\n",
      "Building dependency tree       \n",
      "Reading state information... Done\n",
      "unzip is already the newest version (6.0-21ubuntu1.1).\n",
      "0 upgraded, 0 newly installed, 0 to remove and 29 not upgraded.\n"
     ]
    }
   ],
   "source": [
    "!apt install unzip"
   ]
  },
  {
   "cell_type": "code",
   "execution_count": 3,
   "metadata": {
    "colab": {
     "base_uri": "https://localhost:8080/"
    },
    "id": "MYUppX0OdPTu",
    "outputId": "6f470f9b-344c-4e6d-f97f-2fd6df727df2"
   },
   "outputs": [
    {
     "name": "stdout",
     "output_type": "stream",
     "text": [
      "Archive:  SMAI_Log_reg_dataset.zip\n",
      " extracting: SMAI_Log_reg_dataset/titanic.csv  \n",
      " extracting: SMAI_Log_reg_dataset/X.npy.zip  \n",
      " extracting: SMAI_Log_reg_dataset/Y.npy  \n"
     ]
    }
   ],
   "source": [
    "!unzip SMAI_Log_reg_dataset.zip"
   ]
  },
  {
   "cell_type": "code",
   "execution_count": 4,
   "metadata": {
    "id": "v-77wwTOdS-G"
   },
   "outputs": [],
   "source": [
    "import numpy as np\n",
    "import pandas as pd\n",
    "import matplotlib.pyplot as plt\n",
    "from sklearn.model_selection import train_test_split # to split data into training sets and test sets\n",
    "\n",
    "from sklearn.preprocessing import LabelEncoder  #for label encoding"
   ]
  },
  {
   "cell_type": "code",
   "execution_count": 5,
   "metadata": {
    "id": "39BICZ9Jd-_T"
   },
   "outputs": [],
   "source": [
    "#headers=['PassengerId','Survuved','PClass','Name','Sex','Age','SibSp','Parch','Ticket','Fare','Cabin','Embarked']\n",
    "data = pd.read_csv('SMAI_Log_reg_dataset/titanic.csv', na_values='?', header=None,) \n",
    "#print(data)\n",
    "\n",
    "\n",
    "new_header = data.iloc[0] \n",
    "data = data[1:] \n",
    "data.columns = new_header\n",
    "\n",
    "data=data.drop(['Name', 'Ticket','Cabin','PassengerId'], axis = 1) \n",
    "#print(data)\n",
    "#data.describe()\n",
    "data['Embarked'].fillna(data['Embarked'].mode()[0], inplace=True)\n",
    "data['Age'].fillna(data['Age'].median(), inplace=True)\n",
    "\n",
    "##doing label encoding\n",
    "labelencoder = LabelEncoder()\n",
    "# Assigning numerical values and storing in another column\n",
    "\n",
    "#data=pd.get_dummies(data, columns=[\"Embarked\"])\n",
    "\n",
    "data['Embarked_encoded'] = labelencoder.fit_transform(data['Embarked'])\n",
    "data=data.drop(['Embarked'], axis = 1) \n",
    "\n",
    "\n",
    "data['Sex_encoded'] = labelencoder.fit_transform(data['Sex'])\n",
    "data=data.drop(['Sex'], axis = 1) \n",
    "\n",
    "## doing NORMALISATION on Pclass,age,parch,fare,embarked_encoded\n",
    "data['Pclass'] = pd.to_numeric(data['Pclass']) \n",
    "data[\"Pclass_normalised\"]=((data[\"Pclass\"]-data[\"Pclass\"].min())/(data[\"Pclass\"].max()-data[\"Pclass\"].min()))*1\n",
    "data=data.drop(['Pclass'], axis = 1) \n",
    "\n",
    "data['Age'] = pd.to_numeric(data['Age']) \n",
    "data[\"Age_normalised\"]=((data[\"Age\"]-data[\"Age\"].min())/(data[\"Age\"].max()-data[\"Age\"].min()))*1\n",
    "data=data.drop(['Age'], axis = 1) \n",
    "\n",
    "data['Parch'] = pd.to_numeric(data['Parch']) \n",
    "data[\"Parch_normalised\"]=((data[\"Parch\"]-data[\"Parch\"].min())/(data[\"Parch\"].max()-data[\"Parch\"].min()))*1\n",
    "data=data.drop(['Parch'], axis = 1) \n",
    "\n",
    "\n",
    "data['Fare'] = pd.to_numeric(data['Fare']) \n",
    "data[\"Fare_normalised\"]=((data[\"Fare\"]-data[\"Fare\"].min())/(data[\"Fare\"].max()-data[\"Fare\"].min()))*1\n",
    "data=data.drop(['Fare'], axis = 1) \n",
    "\n",
    "data['SibSp'] = pd.to_numeric(data['SibSp']) \n",
    "data[\"SibSp_normalised\"]=((data[\"SibSp\"]-data[\"SibSp\"].min())/(data[\"SibSp\"].max()-data[\"SibSp\"].min()))*1\n",
    "data=data.drop(['SibSp'], axis = 1) \n",
    "\n",
    "\n",
    "data['Embarked_encoded'] = pd.to_numeric(data['Embarked_encoded']) \n",
    "data[\"Embarked_normalised\"]=((data[\"Embarked_encoded\"]-data[\"Embarked_encoded\"].min())/(data[\"Embarked_encoded\"].max()-data[\"Embarked_encoded\"].min()))*1\n",
    "data=data.drop(['Embarked_encoded'], axis = 1) \n",
    "\n",
    "#print(data)\n",
    "#data.describe()\n",
    "\n"
   ]
  },
  {
   "cell_type": "code",
   "execution_count": 6,
   "metadata": {
    "id": "Z-zq00BjVc1g"
   },
   "outputs": [],
   "source": [
    "y=data['Survived']\n",
    "data=data.drop(['Survived'], axis = 1) "
   ]
  },
  {
   "cell_type": "code",
   "execution_count": 7,
   "metadata": {
    "colab": {
     "base_uri": "https://localhost:8080/"
    },
    "id": "8WB-TfioluIL",
    "outputId": "1b5bb564-2fbb-4111-c63b-c973b7f2ebe8"
   },
   "outputs": [
    {
     "name": "stdout",
     "output_type": "stream",
     "text": [
      "0    Sex_encoded  Pclass_normalised  ...  SibSp_normalised  Embarked_normalised\n",
      "1              1                1.0  ...             0.125                  1.0\n",
      "2              0                0.0  ...             0.125                  0.0\n",
      "3              0                1.0  ...             0.000                  1.0\n",
      "4              0                0.0  ...             0.125                  1.0\n",
      "5              1                1.0  ...             0.000                  1.0\n",
      "..           ...                ...  ...               ...                  ...\n",
      "887            1                0.5  ...             0.000                  1.0\n",
      "888            0                0.0  ...             0.000                  1.0\n",
      "889            0                1.0  ...             0.125                  1.0\n",
      "890            1                0.0  ...             0.000                  0.0\n",
      "891            1                1.0  ...             0.000                  0.5\n",
      "\n",
      "[891 rows x 7 columns]\n"
     ]
    },
    {
     "data": {
      "text/plain": [
       "<bound method NDFrame.describe of 0    Sex_encoded  Pclass_normalised  ...  SibSp_normalised  Embarked_normalised\n",
       "1              1                1.0  ...             0.125                  1.0\n",
       "2              0                0.0  ...             0.125                  0.0\n",
       "3              0                1.0  ...             0.000                  1.0\n",
       "4              0                0.0  ...             0.125                  1.0\n",
       "5              1                1.0  ...             0.000                  1.0\n",
       "..           ...                ...  ...               ...                  ...\n",
       "887            1                0.5  ...             0.000                  1.0\n",
       "888            0                0.0  ...             0.000                  1.0\n",
       "889            0                1.0  ...             0.125                  1.0\n",
       "890            1                0.0  ...             0.000                  0.0\n",
       "891            1                1.0  ...             0.000                  0.5\n",
       "\n",
       "[891 rows x 7 columns]>"
      ]
     },
     "execution_count": 7,
     "metadata": {
      "tags": []
     },
     "output_type": "execute_result"
    }
   ],
   "source": [
    "print(data)\n",
    "data.describe"
   ]
  },
  {
   "cell_type": "code",
   "execution_count": 8,
   "metadata": {
    "colab": {
     "base_uri": "https://localhost:8080/",
     "height": 982
    },
    "id": "fi1Gq6qeM3fF",
    "outputId": "8042711d-ebdf-4738-98b8-c848a415460f"
   },
   "outputs": [
    {
     "data": {
      "image/png": "[encoded data removed]",
      "text/plain": [
       "<Figure size 1080x1080 with 2 Axes>"
      ]
     },
     "metadata": {
      "needs_background": "light",
      "tags": []
     },
     "output_type": "display_data"
    }
   ],
   "source": [
    "import seaborn as sns\n",
    "\n",
    "\n",
    "corrmat=data.corr()\n",
    "top_corr_features = corrmat.index \n",
    "#print(top_corr_features)\n",
    "plt.figure(figsize=(15,15))\n",
    "#plot heat map\n",
    "g=sns.heatmap(data[top_corr_features].corr(),annot=True,cmap=\"RdYlGn\")\n",
    "\n",
    "\n",
    "#print(data.shape)\n"
   ]
  },
  {
   "cell_type": "code",
   "execution_count": null,
   "metadata": {
    "id": "keA3H0cQV5SM"
   },
   "outputs": [],
   "source": [
    "from random import seed\n",
    "\n",
    "x_train, x_test, y_train, y_test = train_test_split(data, y, test_size=0.3, random_state=42)\n",
    "\n",
    "x_train=np.array(x_train).astype(np.float)\n",
    "x_test=np.array(x_test).astype(np.float)\n",
    "y_train=np.array(y_train).astype(np.float)\n",
    "y_test=np.array(y_test).astype(np.float)\n",
    "\n",
    "\n",
    "ones=np.ones(shape=x_train.shape[0]).reshape(-1,1)\n",
    "x_train=np.concatenate((ones,x_train),1)\n",
    "\n",
    "ones=np.ones(shape=x_test.shape[0]).reshape(-1,1)\n",
    "x_test=np.concatenate((ones,x_test),1)\n",
    "\n",
    "y_train=y_train.reshape(-1,1)\n",
    "y_test=y_test.reshape(-1,1)\n",
    "# seed random number generator\n",
    "seed(1)\n",
    "#print(type(x_train))\n",
    "length=len(x_train)\n",
    "w=np.zeros(8)\n",
    "\n",
    "#print(w)\n",
    "\n",
    "w=w.reshape(-1,1)\n",
    "\n",
    "#print(x_train.shape)\n",
    "diff=[]\n",
    "epoch=1500\n",
    "\n",
    "alpha=0.01\n",
    "for i in range(epoch):\n",
    "  y_predict=1 / (1 + np.exp(-(np.dot(x_train,w)))) - 0.0000001\n",
    "  cost=np.subtract(y_predict,y_train)\n",
    "  diff.append(cost)\n",
    "  t=[]\n",
    "  t=np.dot(x_train.T,cost)\n",
    "  t1=t*(alpha/len(y_train))\n",
    "  w=w-t1\n",
    "#print(w)\n",
    "\n",
    "pred=[]\n",
    "for i in range(len(x_test)):\n",
    "  #hypo=np.dot(x_test[i],w)\n",
    "  hypo=1 / (1 + np.exp(-(np.dot(x_test[i],w)))) - 0.0000001\n",
    "  pred.append(hypo)\n",
    "\n",
    "# print(\"************\")\n",
    "# print(len(pred))\n",
    "# print(len(pred[0]))\n",
    "# print(\"************\")\n",
    "\n",
    "for i in range(len(pred)):\n",
    "  if pred[i]>=0.5:\n",
    "    pred[i]=1\n",
    "  else:\n",
    "    pred[i]=0\n",
    "\n",
    "\n",
    "accuracy=0\n",
    "for i in range(len(y_test)):\n",
    "  if y_test[i]==pred[i]:\n",
    "    accuracy+=1\n",
    "\n",
    "accuracy = accuracy/len(x_test)\n",
    "#print(accuracy*100)\n",
    "#print(pred)\n",
    "#print(y_test)"
   ]
  },
  {
   "cell_type": "markdown",
   "metadata": {
    "id": "tq6HQdjv7_MG"
   },
   "source": [
    "Report accuracy score, Confusion matrix, heat map, classifiaction report and any other metrics you feel useful."
   ]
  },
  {
   "cell_type": "code",
   "execution_count": 11,
   "metadata": {
    "colab": {
     "base_uri": "https://localhost:8080/"
    },
    "id": "GYON9POHospC",
    "outputId": "2e554427-52bd-4c4a-8d18-f1eedeec60af"
   },
   "outputs": [
    {
     "name": "stdout",
     "output_type": "stream",
     "text": [
      "Accuracy Score : 0.7723880597014925\n"
     ]
    }
   ],
   "source": [
    "print(\"Accuracy Score :\",end= \" \")\n",
    "print(accuracy)"
   ]
  },
  {
   "cell_type": "code",
   "execution_count": 12,
   "metadata": {
    "colab": {
     "base_uri": "https://localhost:8080/"
    },
    "id": "4bEX_ejK3_fA",
    "outputId": "ea284d07-9885-4e60-c489-14509a8e8d8c"
   },
   "outputs": [
    {
     "data": {
      "text/plain": [
       "array([[152,   5],\n",
       "       [ 56,  55]])"
      ]
     },
     "execution_count": 12,
     "metadata": {
      "tags": []
     },
     "output_type": "execute_result"
    }
   ],
   "source": [
    "from sklearn.metrics import confusion_matrix\n",
    "confusion_matrix(y_test, pred)"
   ]
  },
  {
   "cell_type": "code",
   "execution_count": 13,
   "metadata": {
    "colab": {
     "base_uri": "https://localhost:8080/"
    },
    "id": "IPq8kAXY8Fgz",
    "outputId": "e494aa7c-4eec-442b-d05c-f335e3345b30"
   },
   "outputs": [
    {
     "name": "stdout",
     "output_type": "stream",
     "text": [
      "Classification report :\n",
      "\n",
      "              precision    recall  f1-score   support\n",
      "\n",
      "     class 0       0.73      0.97      0.83       157\n",
      "     class 1       0.92      0.50      0.64       111\n",
      "\n",
      "    accuracy                           0.77       268\n",
      "   macro avg       0.82      0.73      0.74       268\n",
      "weighted avg       0.81      0.77      0.75       268\n",
      "\n"
     ]
    }
   ],
   "source": [
    "from sklearn.metrics import classification_report\n",
    "target_names = ['class 0', 'class 1']\n",
    "print(\"Classification report :\")\n",
    "print()\n",
    "print(classification_report(y_test, pred, target_names=target_names))"
   ]
  }
 ],
 "metadata": {
  "colab": {
   "collapsed_sections": [],
   "name": "smai a2 q3.ipynb",
   "provenance": []
  },
  "kernelspec": {
   "display_name": "Python 3",
   "language": "python",
   "name": "python3"
  },
  "language_info": {
   "codemirror_mode": {
    "name": "ipython",
    "version": 3
   },
   "file_extension": ".py",
   "mimetype": "text/x-python",
   "name": "python",
   "nbconvert_exporter": "python",
   "pygments_lexer": "ipython3",
   "version": "3.8.5"
  }
 },
 "nbformat": 4,
 "nbformat_minor": 1
}
